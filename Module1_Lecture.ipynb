{
 "cells": [
  {
   "cell_type": "markdown",
   "metadata": {},
   "source": [
    "# First Name: \n",
    "# Last Name: "
   ]
  },
  {
   "cell_type": "markdown",
   "metadata": {},
   "source": [
    "# Importing libraries"
   ]
  },
  {
   "cell_type": "code",
   "execution_count": null,
   "metadata": {},
   "outputs": [],
   "source": [
    "#import pandas & numpy\n",
    "import pandas as pd\n",
    "import numpy as np"
   ]
  },
  {
   "cell_type": "markdown",
   "metadata": {},
   "source": [
    "# Read in the nesarc.csv file"
   ]
  },
  {
   "cell_type": "code",
   "execution_count": null,
   "metadata": {},
   "outputs": [],
   "source": [
    "#read in csv file into \n",
    "nesarc = pd.read_csv('nesarc.csv', low_memory=False) #increase efficiency"
   ]
  },
  {
   "cell_type": "markdown",
   "metadata": {},
   "source": [
    "# getting the number of rows, columns and printing the first 5 rows"
   ]
  },
  {
   "cell_type": "code",
   "execution_count": null,
   "metadata": {},
   "outputs": [],
   "source": [
    "print (len(nesarc)) #number of rows (observations)\n",
    "print (len(nesarc.columns)) # number of columns (variables)\n",
    "\n",
    "nesarc.head() #print the first five rows"
   ]
  },
  {
   "cell_type": "markdown",
   "metadata": {},
   "source": [
    "# Nicotine dependence - 12 months (TAB12MDX)"
   ]
  },
  {
   "cell_type": "code",
   "execution_count": null,
   "metadata": {},
   "outputs": [],
   "source": [
    "nesarc['TAB12MDX'] = pd.to_numeric(nesarc['TAB12MDX'],errors='coerce') #convert variable to numeric\n",
    "nesarc['TAB12MDX'].head(25) #print the first 25 rows"
   ]
  },
  {
   "cell_type": "code",
   "execution_count": null,
   "metadata": {},
   "outputs": [],
   "source": [
    "#calculate counts \n",
    "c_nic_dep = nesarc['TAB12MDX'].value_counts(sort=False) #sort by values (not count)\n",
    "print (c_nic_dep)\n",
    "\n",
    "#calculate percentages\n",
    "p_nic_dep = nesarc['TAB12MDX'].value_counts(sort=False, normalize=True) #normalize=True will give percentage\n",
    "print (p_nic_dep)"
   ]
  },
  {
   "cell_type": "code",
   "execution_count": null,
   "metadata": {},
   "outputs": [],
   "source": [
    "print('counts for TAB12MDX') #add titles to understand output\n",
    "print (c_nic_dep)\n",
    "\n",
    "print('percentages for TAB12MDX') #add titles to understand output\n",
    "print (p_nic_dep)"
   ]
  },
  {
   "cell_type": "code",
   "execution_count": null,
   "metadata": {},
   "outputs": [],
   "source": [
    "print ('counts for TAB12MDX – nicotine dependence in the past 12 months, yes=1') #better titles\n",
    "print (c_nic_dep)\n",
    "\n",
    "print ('percentages for TAB12MDX nicotine dependence in the past 12 months, yes=1') #better titles\n",
    "print (p_nic_dep)"
   ]
  },
  {
   "cell_type": "markdown",
   "metadata": {},
   "source": [
    "# Cigarette smoking status (CHECK321)"
   ]
  },
  {
   "cell_type": "code",
   "execution_count": null,
   "metadata": {},
   "outputs": [],
   "source": [
    "nesarc['CHECK321'] = pd.to_numeric(nesarc['CHECK321'], errors='coerce') #convert smoking status to numeric\n",
    "nesarc['CHECK321'].head(25) #print the first 25"
   ]
  },
  {
   "cell_type": "code",
   "execution_count": null,
   "metadata": {},
   "outputs": [],
   "source": [
    "c_cig_status = nesarc['CHECK321'].value_counts(sort=False) #get count in each category\n",
    "print ('counts for CHECK321 smoked in the past year, yes=1')\n",
    "print(c_cig_status)\n",
    "\n",
    "p_cig_status = nesarc['CHECK321'].value_counts(sort=False, normalize=True) #get percentage\n",
    "print ('percentages for CHECK321 smoked in the past year, yes=1')\n",
    "print (p_cig_status)"
   ]
  },
  {
   "cell_type": "markdown",
   "metadata": {},
   "source": [
    "# Usual frequency of smoked cigarettes (S3AQ3B1)"
   ]
  },
  {
   "cell_type": "code",
   "execution_count": null,
   "metadata": {},
   "outputs": [],
   "source": [
    "nesarc['S3AQ3B1'] = pd.to_numeric(nesarc['S3AQ3B1'], errors='coerce')\n",
    "nesarc['S3AQ3B1'].head(25)"
   ]
  },
  {
   "cell_type": "code",
   "execution_count": null,
   "metadata": {},
   "outputs": [],
   "source": [
    "c_cig_feq = nesarc['S3AQ3B1'].value_counts(sort=False)\n",
    "print ('counts for S3AQ3B1 –usual frequency when smoked cigarettes')\n",
    "print(c_cig_feq)\n",
    "\n",
    "p_cig_feq = nesarc['S3AQ3B1'].value_counts(sort=False, normalize=True)\n",
    "print ('percentages for S3AQ3B1 - usual frequency when smoked cigarettes')\n",
    "print (p_cig_feq)"
   ]
  },
  {
   "cell_type": "code",
   "execution_count": null,
   "metadata": {},
   "outputs": [],
   "source": [
    "nesarc['S3AQ3B1'] = nesarc['S3AQ3B1'].astype('category') #set the data type as categorical data\n",
    "\n",
    "c_cig_feq = nesarc['S3AQ3B1'].value_counts(sort=False)\n",
    "print ('counts for S3AQ3B1 –usual frequency when smoked cigarettes')\n",
    "print(c_cig_feq)\n",
    "\n",
    "p_cig_feq = nesarc['S3AQ3B1'].value_counts(sort=True, normalize=True)\n",
    "print ('percentages for S3AQ3B1 - usual frequency when smoked cigarettes')\n",
    "print (p_cig_feq)"
   ]
  },
  {
   "cell_type": "markdown",
   "metadata": {},
   "source": [
    "# Usual quantity when smoked cigarettes (S3AQ3C1)"
   ]
  },
  {
   "cell_type": "code",
   "execution_count": null,
   "metadata": {},
   "outputs": [],
   "source": [
    "nesarc['S3AQ3C1'] = pd.to_numeric(nesarc['S3AQ3C1'], errors='coerce')\n",
    "nesarc['S3AQ3C1'] = nesarc['S3AQ3C1'].astype(\"category\")#check code - M\n",
    "\n",
    "c_cig_quan = nesarc['S3AQ3C1'].value_counts(sort=False)\n",
    "print ('counts for S3AQ3C1 usual quantity when smoked cigarettes')\n",
    "print(c_cig_quan)\n",
    "\n",
    "p_cig_quan = nesarc['S3AQ3C1'].value_counts(sort=False, normalize=True)\n",
    "print ('percentages for S3AQ3C1 usual quantity when smoked cigarettes')\n",
    "\n",
    "print (p_cig_quan)"
   ]
  },
  {
   "cell_type": "markdown",
   "metadata": {},
   "source": [
    "# Groupby - An alternative way to do count & percentages"
   ]
  },
  {
   "cell_type": "code",
   "execution_count": null,
   "metadata": {},
   "outputs": [],
   "source": [
    "#count using groupby\n",
    "c_nic_dep_alt = nesarc.groupby('TAB12MDX').size()\n",
    "print(c_nic_dep_alt)"
   ]
  },
  {
   "cell_type": "code",
   "execution_count": null,
   "metadata": {},
   "outputs": [],
   "source": [
    "p_nic_dep_alt = nesarc.groupby('TAB12MDX').size()*100/len(nesarc)\n",
    "print(p_nic_dep_alt)"
   ]
  },
  {
   "cell_type": "markdown",
   "metadata": {},
   "source": [
    "# Subset of data"
   ]
  },
  {
   "cell_type": "code",
   "execution_count": null,
   "metadata": {},
   "outputs": [],
   "source": [
    "nesarc['AGE'] = pd.to_numeric(nesarc['AGE'], errors='coerce')\n",
    "\n",
    "#subset data to young adults age 18 to 25 who have smoked in the past 12 months\n",
    "sub1=nesarc[(nesarc['AGE']>=18) & (nesarc['AGE']<=25) & (nesarc['CHECK321']==1)]\n",
    "\n",
    "#make a copy of the new subsetted data\n",
    "sub2 = sub1.copy()\n",
    "\n",
    "c5 = sub2['AGE'].value_counts(sort=False)\n",
    "print ('counts for AGE')\n",
    "print(c5)\n",
    "\n",
    "p5 = sub2['AGE'].value_counts(sort=False, normalize=True)\n",
    "print ('percentages for AGE')\n",
    "print (p5)"
   ]
  },
  {
   "cell_type": "markdown",
   "metadata": {},
   "source": [
    "# Column Names to upper case"
   ]
  },
  {
   "cell_type": "code",
   "execution_count": null,
   "metadata": {},
   "outputs": [],
   "source": [
    "#convert all column names to upper case\n",
    "nesarc.columns = map(str.upper,nesarc.columns)"
   ]
  },
  {
   "cell_type": "markdown",
   "metadata": {},
   "source": [
    "# avoid run time errors - bug fix for display formats "
   ]
  },
  {
   "cell_type": "code",
   "execution_count": null,
   "metadata": {},
   "outputs": [],
   "source": [
    "pd.set_option('display.float_format', lambda x:'%f'%x)"
   ]
  }
 ],
 "metadata": {
  "kernelspec": {
   "display_name": "Python 3 (ipykernel)",
   "language": "python",
   "name": "python3"
  },
  "language_info": {
   "codemirror_mode": {
    "name": "ipython",
    "version": 3
   },
   "file_extension": ".py",
   "mimetype": "text/x-python",
   "name": "python",
   "nbconvert_exporter": "python",
   "pygments_lexer": "ipython3",
   "version": "3.9.13"
  }
 },
 "nbformat": 4,
 "nbformat_minor": 2
}
